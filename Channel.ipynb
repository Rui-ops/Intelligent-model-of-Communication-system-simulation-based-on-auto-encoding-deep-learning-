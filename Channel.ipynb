{
 "cells": [
  {
   "cell_type": "code",
   "execution_count": 19,
   "metadata": {},
   "outputs": [],
   "source": [
    "# importing libs\n",
    "import numpy as np\n",
    "import tensorflow as tf\n",
    "from tensorflow import keras\n",
    "from keras.layers import Input, Dense, GaussianNoise\n",
    "from keras.models import Model\n",
    "from keras import regularizers\n",
    "from keras.layers.normalization import BatchNormalization\n",
    "from keras.optimizers import SGD\n",
    "import random as rn\n",
    "import os\n",
    "from keras.models import load_model"
   ]
  },
  {
   "cell_type": "code",
   "execution_count": 20,
   "metadata": {},
   "outputs": [],
   "source": [
    "# Loading data\n",
    "real_input=np.loadtxt('real_input.txt')\n",
    "#print(real_input.shape)\n",
    "Rinput=[]\n",
    "for i in range(0,32768):\n",
    "    Rinput.append(real_input[i][1])\n",
    "Rinput=np.array(Rinput)\n",
    "Rinput=np.reshape(Rinput,(4096,8))\n",
    "#print(Rinput.shape)\n",
    "#print(Rinput[2])\n",
    "\n",
    "valinput=np.loadtxt('valinput.txt')\n",
    "#print(valinput.shape)\n",
    "Vinput=[]\n",
    "for i in range(0,8192):\n",
    "    Vinput.append(real_input[i][1])\n",
    "Vinput=np.array(Vinput)\n",
    "Vinput=np.reshape(Vinput,(1024,8))\n",
    "\n",
    "real_output=np.loadtxt('real_output.txt')\n",
    "#print(real_output.shape)\n",
    "Routput=[]\n",
    "for i in range(0,32768):\n",
    "    Sum=real_output[4*i][1]+real_output[4*i+1][1]+real_output[4*i+2][1]+real_output[4*i+3][1]\n",
    "    mm=Sum/4\n",
    "    Routput.append(mm)\n",
    "Routput=np.array(Routput)\n",
    "Routput=np.reshape(Routput,(4096,8))\n",
    "#print(Rinput.shape)\n",
    "#print(Routput[2])\n",
    "\n",
    "valoutput=np.loadtxt('valoutput.txt')\n",
    "#print(valoutput.shape)\n",
    "Voutput=[]\n",
    "for i in range(0,8192):\n",
    "    Sum=valoutput[4*i][1]+valoutput[4*i+1][1]+valoutput[4*i+2][1]+valoutput[4*i+3][1]\n",
    "    mm=Sum/4\n",
    "    Voutput.append(mm)\n",
    "Voutput=np.array(Voutput)\n",
    "Voutput=np.reshape(Voutput,(1024,8))\n"
   ]
  },
  {
   "cell_type": "code",
   "execution_count": 21,
   "metadata": {},
   "outputs": [],
   "source": [
    "Ir=[0,1]\n",
    "If=[1,0]\n",
    "\n",
    "Ir1=[]\n",
    "If1=[]\n",
    "Ir2=[]\n",
    "If2=[]\n",
    "for i in range(0,4096):\n",
    "    Ir1.append(Ir)\n",
    "    If1.append(If)\n",
    "    \n",
    "for i in range(0,1024):\n",
    "    Ir2.append(Ir)\n",
    "    If2.append(If)\n",
    "    \n",
    "Ir1=np.array(Ir1)\n",
    "Ir2=np.array(Ir2)\n",
    "If1=np.array(If1)\n",
    "If2=np.array(If2)"
   ]
  },
  {
   "cell_type": "code",
   "execution_count": 22,
   "metadata": {},
   "outputs": [
    {
     "name": "stdout",
     "output_type": "stream",
     "text": [
      "Model: \"model_5\"\n",
      "_________________________________________________________________\n",
      "Layer (type)                 Output Shape              Param #   \n",
      "=================================================================\n",
      "input_5 (InputLayer)         (None, 8)                 0         \n",
      "_________________________________________________________________\n",
      "dense_19 (Dense)             (None, 16)                144       \n",
      "_________________________________________________________________\n",
      "dense_20 (Dense)             (None, 10)                170       \n",
      "_________________________________________________________________\n",
      "dense_21 (Dense)             (None, 6)                 66        \n",
      "_________________________________________________________________\n",
      "dense_22 (Dense)             (None, 2)                 14        \n",
      "=================================================================\n",
      "Total params: 394\n",
      "Trainable params: 394\n",
      "Non-trainable params: 0\n",
      "_________________________________________________________________\n",
      "None\n"
     ]
    }
   ],
   "source": [
    "#Discriminator\n",
    "inputsize = 8\n",
    "outputsize = 2\n",
    "input_sig = Input(shape=(inputsize,))\n",
    "layer1 = Dense(16, activation='relu')(input_sig)\n",
    "layer2 = Dense(10, activation='relu')(layer1)\n",
    "layer3 = Dense(6, activation='relu')(layer2)\n",
    "p = Dense(outputsize, activation='softmax')(layer3)\n",
    "\n",
    "discriminator = Model(input_sig, p)\n",
    "\n",
    "discriminator.compile(optimizer='adam', loss='categorical_crossentropy')\n",
    "print (discriminator.summary())"
   ]
  },
  {
   "cell_type": "code",
   "execution_count": 24,
   "metadata": {},
   "outputs": [
    {
     "name": "stdout",
     "output_type": "stream",
     "text": [
      "Model: \"model_7\"\n",
      "_________________________________________________________________\n",
      "Layer (type)                 Output Shape              Param #   \n",
      "=================================================================\n",
      "input_7 (InputLayer)         (None, 8)                 0         \n",
      "_________________________________________________________________\n",
      "dense_29 (Dense)             (None, 30)                270       \n",
      "_________________________________________________________________\n",
      "dense_30 (Dense)             (None, 20)                620       \n",
      "_________________________________________________________________\n",
      "dense_31 (Dense)             (None, 13)                273       \n",
      "_________________________________________________________________\n",
      "dense_32 (Dense)             (None, 8)                 112       \n",
      "_________________________________________________________________\n",
      "dense_33 (Dense)             (None, 5)                 45        \n",
      "_________________________________________________________________\n",
      "dense_34 (Dense)             (None, 8)                 48        \n",
      "=================================================================\n",
      "Total params: 1,368\n",
      "Trainable params: 1,368\n",
      "Non-trainable params: 0\n",
      "_________________________________________________________________\n",
      "None\n"
     ]
    }
   ],
   "source": [
    "#Generator\n",
    "Inputsize = 8\n",
    "Outputsize = 8\n",
    "input_signal = Input(shape=(Inputsize,))\n",
    "lay1 = Dense(30, activation='relu')(input_signal)\n",
    "lay2 = Dense(20, activation='relu')(lay1)\n",
    "lay3 = Dense(13, activation='relu')(lay2)\n",
    "lay4 = Dense(8, activation='relu')(lay3)\n",
    "lay5 = Dense(5, activation='relu')(lay4)\n",
    "output_signal = Dense(Outputsize, activation='linear')(lay5)\n",
    "\n",
    "generator = Model(input_signal, output_signal)\n",
    "\n",
    "generator.compile(optimizer='adam', loss='categorical_crossentropy')\n",
    "print (generator.summary())"
   ]
  },
  {
   "cell_type": "code",
   "execution_count": 25,
   "metadata": {},
   "outputs": [
    {
     "data": {
      "text/plain": [
       "<tensorflow.python.ops.init_ops_v2.RandomUniform at 0x20ba99d6208>"
      ]
     },
     "execution_count": 25,
     "metadata": {},
     "output_type": "execute_result"
    }
   ],
   "source": [
    "#初始化权重\n",
    "keras.initializers.RandomUniform(minval=-0.05, maxval=0.05, seed=None)"
   ]
  },
  {
   "cell_type": "code",
   "execution_count": 26,
   "metadata": {},
   "outputs": [
    {
     "name": "stdout",
     "output_type": "stream",
     "text": [
      "Train on 4096 samples, validate on 1024 samples\n",
      "Epoch 1/30\n",
      "4096/4096 [==============================] - 0s 22us/step - loss: 0.6632 - val_loss: 0.6239\n",
      "Epoch 2/30\n",
      "4096/4096 [==============================] - 0s 4us/step - loss: 0.5878 - val_loss: 0.5421\n",
      "Epoch 3/30\n",
      "4096/4096 [==============================] - 0s 5us/step - loss: 0.5012 - val_loss: 0.4498\n",
      "Epoch 4/30\n",
      "4096/4096 [==============================] - 0s 5us/step - loss: 0.4055 - val_loss: 0.3515\n",
      "Epoch 5/30\n",
      "4096/4096 [==============================] - 0s 6us/step - loss: 0.3077 - val_loss: 0.2564\n",
      "Epoch 6/30\n",
      "4096/4096 [==============================] - 0s 5us/step - loss: 0.2181 - val_loss: 0.1754\n",
      "Epoch 7/30\n",
      "4096/4096 [==============================] - 0s 5us/step - loss: 0.1463 - val_loss: 0.1153\n",
      "Epoch 8/30\n",
      "4096/4096 [==============================] - 0s 5us/step - loss: 0.0957 - val_loss: 0.0754\n",
      "Epoch 9/30\n",
      "4096/4096 [==============================] - 0s 5us/step - loss: 0.0631 - val_loss: 0.0505\n",
      "Epoch 10/30\n",
      "4096/4096 [==============================] - 0s 5us/step - loss: 0.0430 - val_loss: 0.0353\n",
      "Epoch 11/30\n",
      "4096/4096 [==============================] - 0s 5us/step - loss: 0.0306 - val_loss: 0.0257\n",
      "Epoch 12/30\n",
      "4096/4096 [==============================] - 0s 4us/step - loss: 0.0227 - val_loss: 0.0195\n",
      "Epoch 13/30\n",
      "4096/4096 [==============================] - 0s 5us/step - loss: 0.0174 - val_loss: 0.0153\n",
      "Epoch 14/30\n",
      "4096/4096 [==============================] - 0s 5us/step - loss: 0.0138 - val_loss: 0.0123\n",
      "Epoch 15/30\n",
      "4096/4096 [==============================] - 0s 5us/step - loss: 0.0112 - val_loss: 0.0101\n",
      "Epoch 16/30\n",
      "4096/4096 [==============================] - 0s 6us/step - loss: 0.0093 - val_loss: 0.0084\n",
      "Epoch 17/30\n",
      "4096/4096 [==============================] - 0s 5us/step - loss: 0.0078 - val_loss: 0.0072\n",
      "Epoch 18/30\n",
      "4096/4096 [==============================] - 0s 5us/step - loss: 0.0067 - val_loss: 0.0062\n",
      "Epoch 19/30\n",
      "4096/4096 [==============================] - 0s 5us/step - loss: 0.0058 - val_loss: 0.0054\n",
      "Epoch 20/30\n",
      "4096/4096 [==============================] - 0s 6us/step - loss: 0.0050 - val_loss: 0.0047\n",
      "Epoch 21/30\n",
      "4096/4096 [==============================] - 0s 5us/step - loss: 0.0044 - val_loss: 0.0042\n",
      "Epoch 22/30\n",
      "4096/4096 [==============================] - 0s 5us/step - loss: 0.0039 - val_loss: 0.0037\n",
      "Epoch 23/30\n",
      "4096/4096 [==============================] - 0s 5us/step - loss: 0.0035 - val_loss: 0.0033\n",
      "Epoch 24/30\n",
      "4096/4096 [==============================] - 0s 5us/step - loss: 0.0032 - val_loss: 0.0030\n",
      "Epoch 25/30\n",
      "4096/4096 [==============================] - 0s 6us/step - loss: 0.0029 - val_loss: 0.0027\n",
      "Epoch 26/30\n",
      "4096/4096 [==============================] - 0s 5us/step - loss: 0.0026 - val_loss: 0.0025\n",
      "Epoch 27/30\n",
      "4096/4096 [==============================] - 0s 5us/step - loss: 0.0024 - val_loss: 0.0023\n",
      "Epoch 28/30\n",
      "4096/4096 [==============================] - 0s 6us/step - loss: 0.0022 - val_loss: 0.0021\n",
      "Epoch 29/30\n",
      "4096/4096 [==============================] - 0s 7us/step - loss: 0.0020 - val_loss: 0.0019\n",
      "Epoch 30/30\n",
      "4096/4096 [==============================] - 0s 5us/step - loss: 0.0018 - val_loss: 0.0018\n"
     ]
    },
    {
     "data": {
      "text/plain": [
       "<keras.callbacks.callbacks.History at 0x20ba05a2148>"
      ]
     },
     "execution_count": 26,
     "metadata": {},
     "output_type": "execute_result"
    }
   ],
   "source": [
    "#Training od discriminator\n",
    "discriminator.fit(Routput, Ir1,\n",
    "                epochs=30,\n",
    "                batch_size=300,\n",
    "                validation_data=(Voutput, Ir2))\n"
   ]
  },
  {
   "cell_type": "code",
   "execution_count": 27,
   "metadata": {},
   "outputs": [],
   "source": [
    "Foutput = generator.predict(Rinput) \n",
    "FVoutput=generator.predict(Vinput)"
   ]
  },
  {
   "cell_type": "code",
   "execution_count": 28,
   "metadata": {},
   "outputs": [
    {
     "name": "stdout",
     "output_type": "stream",
     "text": [
      "Train on 4096 samples, validate on 1024 samples\n",
      "Epoch 1/30\n",
      "4096/4096 [==============================] - 0s 5us/step - loss: 5.2985 - val_loss: 2.2888\n",
      "Epoch 2/30\n",
      "4096/4096 [==============================] - 0s 6us/step - loss: 1.2653 - val_loss: 0.5677\n",
      "Epoch 3/30\n",
      "4096/4096 [==============================] - 0s 5us/step - loss: 0.3913 - val_loss: 0.2798\n",
      "Epoch 4/30\n",
      "4096/4096 [==============================] - 0s 5us/step - loss: 0.2315 - val_loss: 0.1769\n",
      "Epoch 5/30\n",
      "4096/4096 [==============================] - 0s 5us/step - loss: 0.1480 - val_loss: 0.1147\n",
      "Epoch 6/30\n",
      "4096/4096 [==============================] - 0s 5us/step - loss: 0.0981 - val_loss: 0.0779\n",
      "Epoch 7/30\n",
      "4096/4096 [==============================] - 0s 5us/step - loss: 0.0683 - val_loss: 0.0557\n",
      "Epoch 8/30\n",
      "4096/4096 [==============================] - 0s 5us/step - loss: 0.0498 - val_loss: 0.0416\n",
      "Epoch 9/30\n",
      "4096/4096 [==============================] - 0s 5us/step - loss: 0.0379 - val_loss: 0.0324\n",
      "Epoch 10/30\n",
      "4096/4096 [==============================] - 0s 5us/step - loss: 0.0299 - val_loss: 0.0259\n",
      "Epoch 11/30\n",
      "4096/4096 [==============================] - 0s 5us/step - loss: 0.0243 - val_loss: 0.0213\n",
      "Epoch 12/30\n",
      "4096/4096 [==============================] - 0s 5us/step - loss: 0.0201 - val_loss: 0.0178\n",
      "Epoch 13/30\n",
      "4096/4096 [==============================] - 0s 5us/step - loss: 0.0169 - val_loss: 0.0151\n",
      "Epoch 14/30\n",
      "4096/4096 [==============================] - 0s 5us/step - loss: 0.0145 - val_loss: 0.0130\n",
      "Epoch 15/30\n",
      "4096/4096 [==============================] - 0s 5us/step - loss: 0.0125 - val_loss: 0.0114\n",
      "Epoch 16/30\n",
      "4096/4096 [==============================] - 0s 5us/step - loss: 0.0110 - val_loss: 0.0100\n",
      "Epoch 17/30\n",
      "4096/4096 [==============================] - 0s 5us/step - loss: 0.0097 - val_loss: 0.0089\n",
      "Epoch 18/30\n",
      "4096/4096 [==============================] - 0s 5us/step - loss: 0.0087 - val_loss: 0.0079\n",
      "Epoch 19/30\n",
      "4096/4096 [==============================] - 0s 5us/step - loss: 0.0078 - val_loss: 0.0071\n",
      "Epoch 20/30\n",
      "4096/4096 [==============================] - 0s 4us/step - loss: 0.0070 - val_loss: 0.0065\n",
      "Epoch 21/30\n",
      "4096/4096 [==============================] - 0s 5us/step - loss: 0.0064 - val_loss: 0.0059\n",
      "Epoch 22/30\n",
      "4096/4096 [==============================] - 0s 5us/step - loss: 0.0058 - val_loss: 0.0054\n",
      "Epoch 23/30\n",
      "4096/4096 [==============================] - 0s 4us/step - loss: 0.0053 - val_loss: 0.0049\n",
      "Epoch 24/30\n",
      "4096/4096 [==============================] - 0s 5us/step - loss: 0.0049 - val_loss: 0.0046\n",
      "Epoch 25/30\n",
      "4096/4096 [==============================] - 0s 4us/step - loss: 0.0045 - val_loss: 0.0042\n",
      "Epoch 26/30\n",
      "4096/4096 [==============================] - 0s 5us/step - loss: 0.0042 - val_loss: 0.0039\n",
      "Epoch 27/30\n",
      "4096/4096 [==============================] - 0s 5us/step - loss: 0.0039 - val_loss: 0.0036\n",
      "Epoch 28/30\n",
      "4096/4096 [==============================] - 0s 4us/step - loss: 0.0036 - val_loss: 0.0034\n",
      "Epoch 29/30\n",
      "4096/4096 [==============================] - 0s 4us/step - loss: 0.0034 - val_loss: 0.0032\n",
      "Epoch 30/30\n",
      "4096/4096 [==============================] - 0s 5us/step - loss: 0.0032 - val_loss: 0.0030\n"
     ]
    },
    {
     "data": {
      "text/plain": [
       "<keras.callbacks.callbacks.History at 0x20ba0682708>"
      ]
     },
     "execution_count": 28,
     "metadata": {},
     "output_type": "execute_result"
    }
   ],
   "source": [
    "discriminator.fit(Foutput, If1,\n",
    "                epochs=30,\n",
    "                batch_size=300,\n",
    "                validation_data=(FVoutput, If2))"
   ]
  },
  {
   "cell_type": "code",
   "execution_count": 29,
   "metadata": {},
   "outputs": [
    {
     "name": "stdout",
     "output_type": "stream",
     "text": [
      "Train on 4096 samples, validate on 1024 samples\n",
      "Epoch 1/30\n",
      "4096/4096 [==============================] - 0s 34us/step - loss: 1.7880e-06 - val_loss: 3.3096e-06\n",
      "Epoch 2/30\n",
      "4096/4096 [==============================] - 0s 6us/step - loss: 1.9945e-06 - val_loss: 4.3918e-06\n",
      "Epoch 3/30\n",
      "4096/4096 [==============================] - 0s 7us/step - loss: 3.5846e-06 - val_loss: 2.1528e-06\n",
      "Epoch 4/30\n",
      "4096/4096 [==============================] - 0s 6us/step - loss: 3.9072e-06 - val_loss: 2.0598e-06\n",
      "Epoch 5/30\n",
      "4096/4096 [==============================] - 0s 6us/step - loss: 3.4553e-06 - val_loss: 3.6485e-06\n",
      "Epoch 6/30\n",
      "4096/4096 [==============================] - 0s 5us/step - loss: 2.6962e-06 - val_loss: -1.4452e-06\n",
      "Epoch 7/30\n",
      "4096/4096 [==============================] - 0s 6us/step - loss: 1.8651e-06 - val_loss: -5.1137e-07\n",
      "Epoch 8/30\n",
      "4096/4096 [==============================] - 0s 6us/step - loss: 2.1935e-06 - val_loss: -6.6744e-07\n",
      "Epoch 9/30\n",
      "4096/4096 [==============================] - 0s 5us/step - loss: 2.0230e-06 - val_loss: 1.5063e-06\n",
      "Epoch 10/30\n",
      "4096/4096 [==============================] - 0s 5us/step - loss: 2.6173e-06 - val_loss: 1.5055e-06\n",
      "Epoch 11/30\n",
      "4096/4096 [==============================] - 0s 6us/step - loss: 2.6371e-06 - val_loss: 8.1315e-07\n",
      "Epoch 12/30\n",
      "4096/4096 [==============================] - 0s 7us/step - loss: 2.1047e-06 - val_loss: 8.0763e-07\n",
      "Epoch 13/30\n",
      "4096/4096 [==============================] - 0s 6us/step - loss: 1.7936e-06 - val_loss: 7.5946e-07\n",
      "Epoch 14/30\n",
      "4096/4096 [==============================] - 0s 5us/step - loss: 1.9806e-06 - val_loss: 1.0981e-06\n",
      "Epoch 15/30\n",
      "4096/4096 [==============================] - 0s 5us/step - loss: 2.1270e-06 - val_loss: 1.5857e-06\n",
      "Epoch 16/30\n",
      "4096/4096 [==============================] - 0s 6us/step - loss: 1.5201e-06 - val_loss: 5.3218e-07\n",
      "Epoch 17/30\n",
      "4096/4096 [==============================] - 0s 6us/step - loss: 3.1802e-06 - val_loss: 2.9004e-06\n",
      "Epoch 18/30\n",
      "4096/4096 [==============================] - 0s 6us/step - loss: 1.8326e-06 - val_loss: 2.6138e-06\n",
      "Epoch 19/30\n",
      "4096/4096 [==============================] - 0s 6us/step - loss: 1.8558e-06 - val_loss: 2.7076e-06\n",
      "Epoch 20/30\n",
      "4096/4096 [==============================] - 0s 6us/step - loss: 1.3304e-06 - val_loss: 3.3606e-06\n",
      "Epoch 21/30\n",
      "4096/4096 [==============================] - 0s 6us/step - loss: 3.3764e-06 - val_loss: 3.9187e-06\n",
      "Epoch 22/30\n",
      "4096/4096 [==============================] - 0s 6us/step - loss: 3.4778e-06 - val_loss: 3.9909e-06\n",
      "Epoch 23/30\n",
      "4096/4096 [==============================] - 0s 5us/step - loss: 3.4889e-06 - val_loss: 4.0204e-06\n",
      "Epoch 24/30\n",
      "4096/4096 [==============================] - 0s 5us/step - loss: 3.4779e-06 - val_loss: 4.0064e-06\n",
      "Epoch 25/30\n",
      "4096/4096 [==============================] - 0s 6us/step - loss: 3.4658e-06 - val_loss: 3.9989e-06\n",
      "Epoch 26/30\n",
      "4096/4096 [==============================] - 0s 6us/step - loss: 3.4576e-06 - val_loss: 3.9994e-06\n",
      "Epoch 27/30\n",
      "4096/4096 [==============================] - 0s 6us/step - loss: 3.4508e-06 - val_loss: 3.9939e-06\n",
      "Epoch 28/30\n",
      "4096/4096 [==============================] - 0s 6us/step - loss: 3.4445e-06 - val_loss: 3.9823e-06\n",
      "Epoch 29/30\n",
      "4096/4096 [==============================] - 0s 6us/step - loss: 3.4389e-06 - val_loss: 3.9729e-06\n",
      "Epoch 30/30\n",
      "4096/4096 [==============================] - 0s 6us/step - loss: 3.4265e-06 - val_loss: 3.9616e-06\n"
     ]
    },
    {
     "data": {
      "text/plain": [
       "<keras.callbacks.callbacks.History at 0x20ba068a308>"
      ]
     },
     "execution_count": 29,
     "metadata": {},
     "output_type": "execute_result"
    }
   ],
   "source": [
    "generator.fit(Rinput, Routput,\n",
    "                epochs=30,\n",
    "                batch_size=300,\n",
    "                validation_data=(Vinput, Voutput))"
   ]
  },
  {
   "cell_type": "code",
   "execution_count": 75,
   "metadata": {},
   "outputs": [],
   "source": []
  },
  {
   "cell_type": "code",
   "execution_count": null,
   "metadata": {},
   "outputs": [],
   "source": []
  },
  {
   "cell_type": "code",
   "execution_count": null,
   "metadata": {},
   "outputs": [],
   "source": []
  }
 ],
 "metadata": {
  "kernelspec": {
   "display_name": "Python 3",
   "language": "python",
   "name": "python3"
  },
  "language_info": {
   "codemirror_mode": {
    "name": "ipython",
    "version": 3
   },
   "file_extension": ".py",
   "mimetype": "text/x-python",
   "name": "python",
   "nbconvert_exporter": "python",
   "pygments_lexer": "ipython3",
   "version": "3.7.4"
  }
 },
 "nbformat": 4,
 "nbformat_minor": 2
}
